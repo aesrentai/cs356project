{
 "cells": [
  {
   "cell_type": "code",
   "execution_count": 2,
   "metadata": {},
   "outputs": [],
   "source": [
    "import pandas as pd\n",
    "import numpy as np\n",
    "import matplotlib.pyplot as plt\n",
    "import joblib\n",
    "import graphviz\n",
    "import pydotplus\n",
    "import sklearn\n",
    "from sklearn.preprocessing import MinMaxScaler\n",
    "from sklearn.tree import DecisionTreeClassifier\n",
    "from sklearn.model_selection import GridSearchCV, train_test_split\n",
    "from sklearn.metrics import accuracy_score, classification_report, confusion_matrix, plot_confusion_matrix\n",
    "from sklearn import tree\n",
    "\n",
    "# For reproducible results\n",
    "RANDOM_STATE_SEED = 420"
   ]
  },
  {
   "cell_type": "code",
   "execution_count": 4,
   "metadata": {},
   "outputs": [],
   "source": [
    "FRIDAY_FILE = 'friday_data.csv'\n",
    "ALL_FILE = 'processed_data.csv'\n",
    "ALL_SAVED_FILE = 'all-decision-tree-classifier.pkl'"
   ]
  },
  {
   "cell_type": "code",
   "execution_count": 37,
   "metadata": {},
   "outputs": [],
   "source": [
    "df_dataset = pd.read_csv(ALL_FILE)"
   ]
  },
  {
   "cell_type": "code",
   "execution_count": 38,
   "metadata": {},
   "outputs": [
    {
     "data": {
      "text/html": [
       "<div>\n",
       "<style scoped>\n",
       "    .dataframe tbody tr th:only-of-type {\n",
       "        vertical-align: middle;\n",
       "    }\n",
       "\n",
       "    .dataframe tbody tr th {\n",
       "        vertical-align: top;\n",
       "    }\n",
       "\n",
       "    .dataframe thead th {\n",
       "        text-align: right;\n",
       "    }\n",
       "</style>\n",
       "<table border=\"1\" class=\"dataframe\">\n",
       "  <thead>\n",
       "    <tr style=\"text-align: right;\">\n",
       "      <th></th>\n",
       "      <th>Flow Duration</th>\n",
       "      <th>Tot Fwd Pkts</th>\n",
       "      <th>Tot Bwd Pkts</th>\n",
       "      <th>TotLen Fwd Pkts</th>\n",
       "      <th>TotLen Bwd Pkts</th>\n",
       "      <th>Fwd Pkt Len Max</th>\n",
       "      <th>Fwd Pkt Len Min</th>\n",
       "      <th>Fwd Pkt Len Mean</th>\n",
       "      <th>Fwd Pkt Len Std</th>\n",
       "      <th>Bwd Pkt Len Max</th>\n",
       "      <th>...</th>\n",
       "      <th>Active Std</th>\n",
       "      <th>Active Max</th>\n",
       "      <th>Active Min</th>\n",
       "      <th>Idle Mean</th>\n",
       "      <th>Idle Std</th>\n",
       "      <th>Idle Max</th>\n",
       "      <th>Idle Min</th>\n",
       "      <th>Protocol_17</th>\n",
       "      <th>Protocol_6</th>\n",
       "      <th>Label</th>\n",
       "    </tr>\n",
       "  </thead>\n",
       "  <tbody>\n",
       "    <tr>\n",
       "      <th>0</th>\n",
       "      <td>94658</td>\n",
       "      <td>6</td>\n",
       "      <td>7</td>\n",
       "      <td>708.0</td>\n",
       "      <td>3718.0</td>\n",
       "      <td>387.0</td>\n",
       "      <td>0.0</td>\n",
       "      <td>118.0</td>\n",
       "      <td>159.284651</td>\n",
       "      <td>1460.0</td>\n",
       "      <td>...</td>\n",
       "      <td>0.0</td>\n",
       "      <td>0.0</td>\n",
       "      <td>0.0</td>\n",
       "      <td>0.0</td>\n",
       "      <td>0.0</td>\n",
       "      <td>0.0</td>\n",
       "      <td>0.0</td>\n",
       "      <td>0</td>\n",
       "      <td>1</td>\n",
       "      <td>0</td>\n",
       "    </tr>\n",
       "    <tr>\n",
       "      <th>1</th>\n",
       "      <td>206</td>\n",
       "      <td>2</td>\n",
       "      <td>0</td>\n",
       "      <td>0.0</td>\n",
       "      <td>0.0</td>\n",
       "      <td>0.0</td>\n",
       "      <td>0.0</td>\n",
       "      <td>0.0</td>\n",
       "      <td>0.000000</td>\n",
       "      <td>0.0</td>\n",
       "      <td>...</td>\n",
       "      <td>0.0</td>\n",
       "      <td>0.0</td>\n",
       "      <td>0.0</td>\n",
       "      <td>0.0</td>\n",
       "      <td>0.0</td>\n",
       "      <td>0.0</td>\n",
       "      <td>0.0</td>\n",
       "      <td>0</td>\n",
       "      <td>1</td>\n",
       "      <td>0</td>\n",
       "    </tr>\n",
       "    <tr>\n",
       "      <th>2</th>\n",
       "      <td>165505</td>\n",
       "      <td>3</td>\n",
       "      <td>1</td>\n",
       "      <td>0.0</td>\n",
       "      <td>0.0</td>\n",
       "      <td>0.0</td>\n",
       "      <td>0.0</td>\n",
       "      <td>0.0</td>\n",
       "      <td>0.000000</td>\n",
       "      <td>0.0</td>\n",
       "      <td>...</td>\n",
       "      <td>0.0</td>\n",
       "      <td>0.0</td>\n",
       "      <td>0.0</td>\n",
       "      <td>0.0</td>\n",
       "      <td>0.0</td>\n",
       "      <td>0.0</td>\n",
       "      <td>0.0</td>\n",
       "      <td>0</td>\n",
       "      <td>1</td>\n",
       "      <td>0</td>\n",
       "    </tr>\n",
       "    <tr>\n",
       "      <th>3</th>\n",
       "      <td>102429</td>\n",
       "      <td>6</td>\n",
       "      <td>7</td>\n",
       "      <td>708.0</td>\n",
       "      <td>3718.0</td>\n",
       "      <td>387.0</td>\n",
       "      <td>0.0</td>\n",
       "      <td>118.0</td>\n",
       "      <td>159.284651</td>\n",
       "      <td>1460.0</td>\n",
       "      <td>...</td>\n",
       "      <td>0.0</td>\n",
       "      <td>0.0</td>\n",
       "      <td>0.0</td>\n",
       "      <td>0.0</td>\n",
       "      <td>0.0</td>\n",
       "      <td>0.0</td>\n",
       "      <td>0.0</td>\n",
       "      <td>0</td>\n",
       "      <td>1</td>\n",
       "      <td>0</td>\n",
       "    </tr>\n",
       "    <tr>\n",
       "      <th>4</th>\n",
       "      <td>167</td>\n",
       "      <td>2</td>\n",
       "      <td>0</td>\n",
       "      <td>0.0</td>\n",
       "      <td>0.0</td>\n",
       "      <td>0.0</td>\n",
       "      <td>0.0</td>\n",
       "      <td>0.0</td>\n",
       "      <td>0.000000</td>\n",
       "      <td>0.0</td>\n",
       "      <td>...</td>\n",
       "      <td>0.0</td>\n",
       "      <td>0.0</td>\n",
       "      <td>0.0</td>\n",
       "      <td>0.0</td>\n",
       "      <td>0.0</td>\n",
       "      <td>0.0</td>\n",
       "      <td>0.0</td>\n",
       "      <td>0</td>\n",
       "      <td>1</td>\n",
       "      <td>0</td>\n",
       "    </tr>\n",
       "  </tbody>\n",
       "</table>\n",
       "<p>5 rows × 73 columns</p>\n",
       "</div>"
      ],
      "text/plain": [
       "   Flow Duration  Tot Fwd Pkts  Tot Bwd Pkts  TotLen Fwd Pkts  \\\n",
       "0          94658             6             7            708.0   \n",
       "1            206             2             0              0.0   \n",
       "2         165505             3             1              0.0   \n",
       "3         102429             6             7            708.0   \n",
       "4            167             2             0              0.0   \n",
       "\n",
       "   TotLen Bwd Pkts  Fwd Pkt Len Max  Fwd Pkt Len Min  Fwd Pkt Len Mean  \\\n",
       "0           3718.0            387.0              0.0             118.0   \n",
       "1              0.0              0.0              0.0               0.0   \n",
       "2              0.0              0.0              0.0               0.0   \n",
       "3           3718.0            387.0              0.0             118.0   \n",
       "4              0.0              0.0              0.0               0.0   \n",
       "\n",
       "   Fwd Pkt Len Std  Bwd Pkt Len Max  ...  Active Std  Active Max  Active Min  \\\n",
       "0       159.284651           1460.0  ...         0.0         0.0         0.0   \n",
       "1         0.000000              0.0  ...         0.0         0.0         0.0   \n",
       "2         0.000000              0.0  ...         0.0         0.0         0.0   \n",
       "3       159.284651           1460.0  ...         0.0         0.0         0.0   \n",
       "4         0.000000              0.0  ...         0.0         0.0         0.0   \n",
       "\n",
       "   Idle Mean  Idle Std  Idle Max  Idle Min  Protocol_17  Protocol_6  Label  \n",
       "0        0.0       0.0       0.0       0.0            0           1      0  \n",
       "1        0.0       0.0       0.0       0.0            0           1      0  \n",
       "2        0.0       0.0       0.0       0.0            0           1      0  \n",
       "3        0.0       0.0       0.0       0.0            0           1      0  \n",
       "4        0.0       0.0       0.0       0.0            0           1      0  \n",
       "\n",
       "[5 rows x 73 columns]"
      ]
     },
     "execution_count": 38,
     "metadata": {},
     "output_type": "execute_result"
    }
   ],
   "source": [
    "df_dataset.head()"
   ]
  },
  {
   "cell_type": "code",
   "execution_count": 39,
   "metadata": {},
   "outputs": [
    {
     "name": "stdout",
     "output_type": "stream",
     "text": [
      "<class 'pandas.core.frame.DataFrame'>\n",
      "RangeIndex: 10861881 entries, 0 to 10861880\n",
      "Data columns (total 73 columns):\n",
      " #   Column             Dtype  \n",
      "---  ------             -----  \n",
      " 0   Flow Duration      int64  \n",
      " 1   Tot Fwd Pkts       int64  \n",
      " 2   Tot Bwd Pkts       int64  \n",
      " 3   TotLen Fwd Pkts    float64\n",
      " 4   TotLen Bwd Pkts    float64\n",
      " 5   Fwd Pkt Len Max    float64\n",
      " 6   Fwd Pkt Len Min    float64\n",
      " 7   Fwd Pkt Len Mean   float64\n",
      " 8   Fwd Pkt Len Std    float64\n",
      " 9   Bwd Pkt Len Max    float64\n",
      " 10  Bwd Pkt Len Min    float64\n",
      " 11  Bwd Pkt Len Mean   float64\n",
      " 12  Bwd Pkt Len Std    float64\n",
      " 13  Flow IAT Mean      float64\n",
      " 14  Flow IAT Std       float64\n",
      " 15  Flow IAT Max       float64\n",
      " 16  Flow IAT Min       float64\n",
      " 17  Fwd IAT Tot        float64\n",
      " 18  Fwd IAT Mean       float64\n",
      " 19  Fwd IAT Std        float64\n",
      " 20  Fwd IAT Max        float64\n",
      " 21  Fwd IAT Min        float64\n",
      " 22  Bwd IAT Tot        float64\n",
      " 23  Bwd IAT Mean       float64\n",
      " 24  Bwd IAT Std        float64\n",
      " 25  Bwd IAT Max        float64\n",
      " 26  Bwd IAT Min        float64\n",
      " 27  Fwd Header Len     int64  \n",
      " 28  Bwd Header Len     int64  \n",
      " 29  Fwd Pkts/s         float64\n",
      " 30  Bwd Pkts/s         float64\n",
      " 31  Pkt Len Min        float64\n",
      " 32  Pkt Len Max        float64\n",
      " 33  Pkt Len Mean       float64\n",
      " 34  Pkt Len Std        float64\n",
      " 35  Pkt Len Var        float64\n",
      " 36  FIN Flag Cnt       int64  \n",
      " 37  SYN Flag Cnt       int64  \n",
      " 38  RST Flag Cnt       int64  \n",
      " 39  PSH Flag Cnt       int64  \n",
      " 40  ACK Flag Cnt       int64  \n",
      " 41  URG Flag Cnt       int64  \n",
      " 42  CWE Flag Count     int64  \n",
      " 43  ECE Flag Cnt       int64  \n",
      " 44  Down/Up Ratio      float64\n",
      " 45  Pkt Size Avg       float64\n",
      " 46  Fwd Seg Size Avg   float64\n",
      " 47  Bwd Seg Size Avg   float64\n",
      " 48  Fwd Byts/b Avg     int64  \n",
      " 49  Fwd Pkts/b Avg     int64  \n",
      " 50  Fwd Blk Rate Avg   int64  \n",
      " 51  Bwd Byts/b Avg     int64  \n",
      " 52  Bwd Pkts/b Avg     int64  \n",
      " 53  Bwd Blk Rate Avg   int64  \n",
      " 54  Subflow Fwd Pkts   int64  \n",
      " 55  Subflow Fwd Byts   int64  \n",
      " 56  Subflow Bwd Pkts   int64  \n",
      " 57  Subflow Bwd Byts   int64  \n",
      " 58  Init Fwd Win Byts  int64  \n",
      " 59  Init Bwd Win Byts  int64  \n",
      " 60  Fwd Act Data Pkts  int64  \n",
      " 61  Fwd Seg Size Min   int64  \n",
      " 62  Active Mean        float64\n",
      " 63  Active Std         float64\n",
      " 64  Active Max         float64\n",
      " 65  Active Min         float64\n",
      " 66  Idle Mean          float64\n",
      " 67  Idle Std           float64\n",
      " 68  Idle Max           float64\n",
      " 69  Idle Min           float64\n",
      " 70  Protocol_17        int64  \n",
      " 71  Protocol_6         int64  \n",
      " 72  Label              int64  \n",
      "dtypes: float64(43), int64(30)\n",
      "memory usage: 5.9 GB\n"
     ]
    }
   ],
   "source": [
    "df_dataset.info()"
   ]
  },
  {
   "cell_type": "code",
   "execution_count": 40,
   "metadata": {},
   "outputs": [],
   "source": [
    "train, test = train_test_split(df_dataset, test_size=0.3, random_state=RANDOM_STATE_SEED)"
   ]
  },
  {
   "cell_type": "code",
   "execution_count": 41,
   "metadata": {},
   "outputs": [
    {
     "name": "stdout",
     "output_type": "stream",
     "text": [
      "Full dataset:\n",
      "\n",
      "Benign: 9532881\n",
      "Malicious: 1329000\n",
      "---------------\n",
      "Training set:\n",
      "\n",
      "Benign: 6672969\n",
      "Malicious: 930347\n",
      "---------------\n",
      "Test set:\n",
      "\n",
      "Benign: 2859912\n",
      "Malicious: 398653\n"
     ]
    }
   ],
   "source": [
    "print(\"Full dataset:\\n\")\n",
    "print(\"Benign: \" + str(df_dataset[\"Label\"].value_counts()[[0]].sum()))\n",
    "print(\"Malicious: \" + str(df_dataset[\"Label\"].value_counts()[[1]].sum()))\n",
    "print(\"---------------\")\n",
    "\n",
    "print(\"Training set:\\n\")\n",
    "print(\"Benign: \" + str(train[\"Label\"].value_counts()[[0]].sum()))\n",
    "print(\"Malicious: \" + str(train[\"Label\"].value_counts()[[1]].sum()))\n",
    "print(\"---------------\")\n",
    "\n",
    "print(\"Test set:\\n\")\n",
    "print(\"Benign: \" + str(test[\"Label\"].value_counts()[[0]].sum()))\n",
    "print(\"Malicious: \" + str(test[\"Label\"].value_counts()[[1]].sum()))"
   ]
  },
  {
   "cell_type": "code",
   "execution_count": 42,
   "metadata": {},
   "outputs": [],
   "source": [
    "# last 3 columns don't need to be edited\n",
    "numerical_cols = df_dataset.columns[:-3]\n",
    "min_max_scaler = MinMaxScaler().fit(train[numerical_cols])\n",
    "train[numerical_cols] = min_max_scaler.transform(train[numerical_cols])\n",
    "test[numerical_cols] = min_max_scaler.transform(test[numerical_cols])"
   ]
  },
  {
   "cell_type": "code",
   "execution_count": 43,
   "metadata": {},
   "outputs": [],
   "source": [
    "y_train = np.array(train.pop(\"Label\")) # pop removes \"Label\" from the dataframe\n",
    "X_train = train.values\n",
    "\n",
    "y_test = np.array(test.pop(\"Label\")) # pop removes \"Label\" from the dataframe\n",
    "X_test = test.values"
   ]
  },
  {
   "cell_type": "code",
   "execution_count": 44,
   "metadata": {},
   "outputs": [],
   "source": [
    "model = DecisionTreeClassifier(\n",
    "    criterion='gini',\n",
    "    splitter='best',\n",
    "    max_depth=None,\n",
    "    min_samples_split=2,\n",
    "    min_samples_leaf=1,\n",
    "    min_weight_fraction_leaf=0.0,\n",
    "    max_features=None,\n",
    "    random_state=None,\n",
    "    max_leaf_nodes=None,\n",
    "    min_impurity_decrease=0.0,\n",
    "    class_weight=None,\n",
    "    ccp_alpha=0.0\n",
    ")\n",
    "\n",
    "hyperparameters = {\n",
    "    'max_depth': [i for i in range(1, 20)]\n",
    "}"
   ]
  },
  {
   "cell_type": "code",
   "execution_count": 45,
   "metadata": {},
   "outputs": [],
   "source": [
    "clf = GridSearchCV(\n",
    "    estimator=model,\n",
    "    param_grid=hyperparameters,\n",
    "    cv=5,\n",
    "    verbose=1,\n",
    "    n_jobs=-1  # Use all available CPU cores\n",
    ")"
   ]
  },
  {
   "cell_type": "code",
   "execution_count": 46,
   "metadata": {},
   "outputs": [
    {
     "name": "stdout",
     "output_type": "stream",
     "text": [
      "Fitting 5 folds for each of 19 candidates, totalling 95 fits\n"
     ]
    }
   ],
   "source": [
    "clf.fit(X=X_train, y=y_train)"
   ]
  },
  {
   "cell_type": "code",
   "execution_count": null,
   "metadata": {},
   "outputs": [
    {
     "name": "stdout",
     "output_type": "stream",
     "text": [
      "Accuracy score on Validation set: \n",
      "\n",
      "0.9996658065335401\n",
      "---------------\n",
      "Best performing hyperparameters on Validation set: \n",
      "{'max_depth': 16}\n",
      "---------------\n",
      "DecisionTreeClassifier(max_depth=16)\n"
     ]
    }
   ],
   "source": [
    "print(\"Accuracy score on Validation set: \\n\")\n",
    "print(clf.best_score_ )\n",
    "print(\"---------------\")\n",
    "print(\"Best performing hyperparameters on Validation set: \")\n",
    "print(clf.best_params_)\n",
    "print(\"---------------\")\n",
    "print(clf.best_estimator_)"
   ]
  },
  {
   "cell_type": "code",
   "execution_count": null,
   "metadata": {},
   "outputs": [],
   "source": [
    "model = clf.best_estimator_"
   ]
  },
  {
   "cell_type": "code",
   "execution_count": null,
   "metadata": {},
   "outputs": [],
   "source": [
    "predictions = model.predict(X_test)"
   ]
  },
  {
   "cell_type": "code",
   "execution_count": null,
   "metadata": {},
   "outputs": [
    {
     "name": "stdout",
     "output_type": "stream",
     "text": [
      "0.9996701501045031\n"
     ]
    },
    {
     "name": "stderr",
     "output_type": "stream",
     "text": [
      "/Users/kuhegbu/Classes/CS356/CS356Project/.venv/lib/python3.8/site-packages/sklearn/utils/deprecation.py:87: FutureWarning: Function plot_confusion_matrix is deprecated; Function `plot_confusion_matrix` is deprecated in 1.0 and will be removed in 1.2. Use one of the class methods: ConfusionMatrixDisplay.from_predictions or ConfusionMatrixDisplay.from_estimator.\n",
      "  warnings.warn(msg, category=FutureWarning)\n"
     ]
    },
    {
     "data": {
      "text/plain": [
       "<sklearn.metrics._plot.confusion_matrix.ConfusionMatrixDisplay at 0x293a3e0d0>"
      ]
     },
     "execution_count": 34,
     "metadata": {},
     "output_type": "execute_result"
    },
    {
     "data": {
      "image/png": "[encoded data removed]",
      "text/plain": [
       "<Figure size 640x480 with 2 Axes>"
      ]
     },
     "metadata": {},
     "output_type": "display_data"
    }
   ],
   "source": [
    "print(accuracy_score(y_test, predictions))\n",
    "cm = confusion_matrix(y_test, predictions)\n",
    "plot_confusion_matrix(model, X_test, y_test, cmap=\"cividis\")"
   ]
  },
  {
   "cell_type": "code",
   "execution_count": null,
   "metadata": {},
   "outputs": [
    {
     "name": "stdout",
     "output_type": "stream",
     "text": [
      "              precision    recall  f1-score   support\n",
      "\n",
      "           0    0.99977   0.99985   0.99981    571060\n",
      "           1    0.99901   0.99849   0.99875     86815\n",
      "\n",
      "    accuracy                        0.99967    657875\n",
      "   macro avg    0.99939   0.99917   0.99928    657875\n",
      "weighted avg    0.99967   0.99967   0.99967    657875\n",
      "\n"
     ]
    }
   ],
   "source": [
    "print(classification_report(y_test, predictions, digits=5))"
   ]
  },
  {
   "cell_type": "code",
   "execution_count": null,
   "metadata": {},
   "outputs": [
    {
     "data": {
      "text/plain": [
       "['trained_models/friday-decision-tree-classifier.pkl']"
      ]
     },
     "execution_count": 36,
     "metadata": {},
     "output_type": "execute_result"
    }
   ],
   "source": [
    "joblib.dump(model, f\"trained_models/{ALL_SAVED_FILE}\")"
   ]
  },
  {
   "cell_type": "code",
   "execution_count": null,
   "metadata": {},
   "outputs": [],
   "source": []
  }
 ],
 "metadata": {
  "kernelspec": {
   "display_name": "Python 3.8.15 ('.venv': venv)",
   "language": "python",
   "name": "python3"
  },
  "language_info": {
   "codemirror_mode": {
    "name": "ipython",
    "version": 3
   },
   "file_extension": ".py",
   "mimetype": "text/x-python",
   "name": "python",
   "nbconvert_exporter": "python",
   "pygments_lexer": "ipython3",
   "version": "3.8.15"
  },
  "orig_nbformat": 4,
  "vscode": {
   "interpreter": {
    "hash": "0db7ea952968dfae03d786160d6bd0de23548be70ee4beb3786ee80336442ad8"
   }
  }
 },
 "nbformat": 4,
 "nbformat_minor": 2
}
